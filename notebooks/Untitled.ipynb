{
 "cells": [
  {
   "cell_type": "code",
   "execution_count": 1,
   "id": "9df94f0b",
   "metadata": {},
   "outputs": [],
   "source": [
    "cd(dirname(pwd())*\"/docs\")"
   ]
  },
  {
   "cell_type": "code",
   "execution_count": 2,
   "id": "6a281207",
   "metadata": {},
   "outputs": [],
   "source": [
    "using Pkg"
   ]
  },
  {
   "cell_type": "code",
   "execution_count": 3,
   "id": "5ad8d2c5",
   "metadata": {},
   "outputs": [
    {
     "name": "stderr",
     "output_type": "stream",
     "text": [
      "\u001b[32m\u001b[1m  Activating\u001b[22m\u001b[39m project at `~/Documents/GitHub/ComputationalHeatTransfer.jl/docs`\n"
     ]
    }
   ],
   "source": [
    "Pkg.activate(pwd())"
   ]
  },
  {
   "cell_type": "code",
   "execution_count": 4,
   "id": "72ea241e",
   "metadata": {},
   "outputs": [],
   "source": [
    "using Literate"
   ]
  },
  {
   "cell_type": "code",
   "execution_count": 5,
   "id": "bb0bfc8f",
   "metadata": {},
   "outputs": [],
   "source": [
    "cd(\"src\")"
   ]
  },
  {
   "cell_type": "code",
   "execution_count": 6,
   "id": "19dad0a7",
   "metadata": {},
   "outputs": [
    {
     "name": "stderr",
     "output_type": "stream",
     "text": [
      "┌ Info: generating notebook from `~/Documents/GitHub/ComputationalHeatTransfer.jl/docs/src/index.jl`\n",
      "└ @ Literate /Users/yuxuanli/.julia/packages/Literate/VQn4b/src/Literate.jl:456\n",
      "┌ Info: executing notebook `index.ipynb`\n",
      "└ @ Literate /Users/yuxuanli/.julia/packages/Literate/VQn4b/src/Literate.jl:741\n",
      "┌ Info: writing result to `~/Documents/GitHub/ComputationalHeatTransfer.jl/docs/src/index.ipynb`\n",
      "└ @ Literate /Users/yuxuanli/.julia/packages/Literate/VQn4b/src/Literate.jl:494\n"
     ]
    },
    {
     "data": {
      "text/plain": [
       "\"/Users/yuxuanli/Documents/GitHub/ComputationalHeatTransfer.jl/docs/src/index.ipynb\""
      ]
     },
     "execution_count": 6,
     "metadata": {},
     "output_type": "execute_result"
    }
   ],
   "source": [
    "Literate.notebook(\"index.jl\")"
   ]
  },
  {
   "cell_type": "code",
   "execution_count": null,
   "id": "80d65d2b",
   "metadata": {},
   "outputs": [],
   "source": [
    "pwd()"
   ]
  },
  {
   "cell_type": "code",
   "execution_count": null,
   "id": "93ac2564",
   "metadata": {},
   "outputs": [],
   "source": [
    "include(\"/Users/yuxuanli/Documents/GitHub/ComputationalHeatTransfer.jl/docs/make.jl\")"
   ]
  },
  {
   "cell_type": "code",
   "execution_count": null,
   "id": "352e15bd",
   "metadata": {},
   "outputs": [],
   "source": []
  }
 ],
 "metadata": {
  "kernelspec": {
   "display_name": "Julia 1.8.1",
   "language": "julia",
   "name": "julia-1.8"
  },
  "language_info": {
   "file_extension": ".jl",
   "mimetype": "application/julia",
   "name": "julia",
   "version": "1.8.1"
  }
 },
 "nbformat": 4,
 "nbformat_minor": 5
}
