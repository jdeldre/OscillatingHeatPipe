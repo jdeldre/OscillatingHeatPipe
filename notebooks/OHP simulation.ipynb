{
 "cells": [
  {
   "cell_type": "markdown",
   "id": "e11cd764",
   "metadata": {},
   "source": [
    "# ASETS-II"
   ]
  },
  {
   "cell_type": "markdown",
   "id": "151331fd",
   "metadata": {},
   "source": [
    "This is an example of a simulation package for conjugate heat transfer of an oscillaitng heat pipe."
   ]
  },
  {
   "cell_type": "markdown",
   "id": "77198eb9",
   "metadata": {},
   "source": [
    "Firstly, let's import the necessary packages"
   ]
  },
  {
   "cell_type": "code",
   "execution_count": null,
   "id": "63445862",
   "metadata": {},
   "outputs": [],
   "source": [
    "using Pkg\n",
    "Pkg.activate(dirname(pwd())) # using current environment for development"
   ]
  },
  {
   "cell_type": "code",
   "execution_count": null,
   "id": "5a98753c",
   "metadata": {},
   "outputs": [],
   "source": [
    "using ComputationalHeatTransfer # our main package\n",
    "using LaTeXStrings # for latex strings\n",
    "using JLD2 # for file input/output\n",
    "\n",
    "using Plots # for plotting\n",
    "gr()  \n"
   ]
  },
  {
   "cell_type": "markdown",
   "id": "79254c3e",
   "metadata": {},
   "source": [
    "## Control Console\n",
    "\n",
    "This block contains the parameters I reckon could be tuned to match the experimental data. \n",
    "As I am still tuning, they are placed here for convenience."
   ]
  },
  {
   "cell_type": "code",
   "execution_count": null,
   "id": "921fe664",
   "metadata": {},
   "outputs": [],
   "source": [
    "OHPtype = \"ASETS-II OHP 2 LARGE HEATER\"\n",
    "power = 40 #watts\n",
    "hc = 3000.0 #condenser heat transfer coefficient\n",
    "Rn = 3e-6 # nucleation site radius\n",
    "δfilm = 2e-5 # initial film thickness\n",
    "ad_fac = 1.3 # film thickness factor\n",
    "plate_d = 1.5e-3; # plate thickness\n",
    "Eratio_plus = 0.15 + 0.5 # η+\n",
    "Eratio_minus = 0.15 # η-"
   ]
  },
  {
   "cell_type": "markdown",
   "id": "119ffca0",
   "metadata": {},
   "source": [
    "# Properies"
   ]
  },
  {
   "cell_type": "code",
   "execution_count": null,
   "id": "73aa9434",
   "metadata": {},
   "outputs": [],
   "source": [
    "params"
   ]
  },
  {
   "cell_type": "markdown",
   "id": "2f4a8fd5",
   "metadata": {},
   "source": [
    "### Solid Physical parameters\n",
    "\n",
    "params is the HeatConductionParameters for the plate material (aluminum)."
   ]
  },
  {
   "cell_type": "code",
   "execution_count": null,
   "id": "3bebddb7",
   "metadata": {},
   "outputs": [],
   "source": [
    "ρₛ = 2730; # density\n",
    "cₛ  = 8.93e02; # specific heat\n",
    "kₛ  = 1.93e02; # heat conductivity\n",
    "params = HeatConductionParameters(ρₛ ,cₛ ,kₛ ,thickness=plate_d)"
   ]
  },
  {
   "cell_type": "markdown",
   "id": "66df027a",
   "metadata": {},
   "source": [
    "### Fluid Physical parameters\n",
    "\n",
    "p_fluid contains the vapor and liquid properties at a constant reference temperatures. Noted that vapor pressures and vapor density will be functions of temperatures in the simulation, other properties are extracted from p_fluid as an approximate value."
   ]
  },
  {
   "cell_type": "code",
   "execution_count": null,
   "id": "b3425a3b",
   "metadata": {},
   "outputs": [],
   "source": [
    "Tref = 291.2 # reference temperature\n",
    "fluid_type = \"Butane\"\n",
    "p_fluid = SaturationFluidProperty(fluid_type,Tref);"
   ]
  },
  {
   "cell_type": "markdown",
   "id": "b367fc8c",
   "metadata": {},
   "source": [
    "# Plate Conduction Part"
   ]
  },
  {
   "cell_type": "markdown",
   "id": "adb4cef7",
   "metadata": {},
   "source": [
    "### Geometry parameters"
   ]
  },
  {
   "cell_type": "code",
   "execution_count": null,
   "id": "c71deb68",
   "metadata": {},
   "outputs": [],
   "source": [
    "Lx = 0.1524; # plate size x\n",
    "Ly = 0.0648; # plate size y\n",
    "xlim = (-Lx/2,Lx/2) # plate x limits\n",
    "ylim = (-Ly/2,Ly/2) # plate y limits"
   ]
  },
  {
   "cell_type": "markdown",
   "id": "e8044365",
   "metadata": {},
   "source": [
    "### Set mesh size and maximum time step"
   ]
  },
  {
   "cell_type": "code",
   "execution_count": null,
   "id": "15d51119",
   "metadata": {},
   "outputs": [],
   "source": [
    "Δx,Δt_max = setstepsizes(params.α,gridPe=8.0,fourier=0.3) "
   ]
  },
  {
   "cell_type": "markdown",
   "id": "c6ea7c9c",
   "metadata": {},
   "source": [
    "### Set up the evaporators and condensers"
   ]
  },
  {
   "cell_type": "code",
   "execution_count": null,
   "id": "e90440f1",
   "metadata": {},
   "outputs": [],
   "source": [
    "Tc = Tref; # condenser temperature\n",
    "eparams,cparams = OHPConfiguration(OHPtype,power,Tc,hc,Δx,hc2ratio=1/30);"
   ]
  },
  {
   "cell_type": "markdown",
   "id": "a1eff4a6",
   "metadata": {},
   "source": [
    "# Set up OHP channel's shape"
   ]
  },
  {
   "cell_type": "code",
   "execution_count": null,
   "id": "4ddeb144",
   "metadata": {},
   "outputs": [],
   "source": [
    "x, y = construct_ohp_curve(\"ASETS\",Δx) # get x and y coordinates for the channel\n",
    "ohp = BasicBody(x,y) # build a BasicBody based on x,y\n",
    "ohpgeom = ComputationalHeatTransfer.LineSourceParams(ohp);"
   ]
  },
  {
   "cell_type": "code",
   "execution_count": null,
   "id": "e02b799c",
   "metadata": {},
   "outputs": [],
   "source": [
    "plot(ohp,fillalpha=0,linecolor=:blue,xlims=xlim,ylims=ylim,framestyle = :box)"
   ]
  },
  {
   "cell_type": "markdown",
   "id": "4c84a7ee",
   "metadata": {},
   "source": [
    "# Create HeatConduction system"
   ]
  },
  {
   "cell_type": "code",
   "execution_count": null,
   "id": "eb3fb10c",
   "metadata": {},
   "outputs": [],
   "source": [
    "sys = HeatConduction(params,Δx,xlim,ylim,Δt_max,qline=ohpgeom,qflux=eparams,qmodel=cparams)"
   ]
  },
  {
   "cell_type": "markdown",
   "id": "ef0bc172",
   "metadata": {},
   "source": [
    "# Create OHP inner channel system, initial state vector, and callback function"
   ]
  },
  {
   "cell_type": "code",
   "execution_count": null,
   "id": "0af27476",
   "metadata": {},
   "outputs": [],
   "source": [
    "sys_tube,u,cbst = initialize_ohpsys(OHPtype,fluid_type,sys,p_fluid,Tref,δfilm,Eratio_plus,Eratio_minus,Rn);"
   ]
  },
  {
   "cell_type": "markdown",
   "id": "1d341937",
   "metadata": {},
   "source": [
    "### set time step"
   ]
  },
  {
   "cell_type": "code",
   "execution_count": null,
   "id": "61c509f0",
   "metadata": {},
   "outputs": [],
   "source": [
    "tspan = (0.0, 1.0);\n",
    "dt_record = 0.01\n",
    "num_data = tspan[2] / dt_record\n",
    "\n",
    "tstep = 5e-4"
   ]
  },
  {
   "cell_type": "markdown",
   "id": "49a55118",
   "metadata": {},
   "source": [
    "### combine inner tube and plate together"
   ]
  },
  {
   "cell_type": "code",
   "execution_count": null,
   "id": "f698133f",
   "metadata": {},
   "outputs": [],
   "source": [
    "u_plate = newstate(sys) .+ Tref # initialize T field\n",
    "integrator_plate = init(u_plate,tspan,sys)"
   ]
  },
  {
   "cell_type": "code",
   "execution_count": null,
   "id": "df4a6a45",
   "metadata": {},
   "outputs": [],
   "source": [
    "prob = ODEProblem(ODE_innertube, u, tspan, sys_tube)\n",
    "integrator_tube = init(prob, RK4(),save_on=false, dt=tstep, callback=cbst)"
   ]
  },
  {
   "cell_type": "markdown",
   "id": "43712723",
   "metadata": {},
   "source": [
    "## Resume"
   ]
  },
  {
   "cell_type": "code",
   "execution_count": null,
   "id": "3da3dda8",
   "metadata": {},
   "outputs": [],
   "source": [
    "# integrator_plate = integrator_plate_temp;"
   ]
  },
  {
   "cell_type": "code",
   "execution_count": null,
   "id": "8a69063e",
   "metadata": {},
   "outputs": [],
   "source": [
    "# integrator_tube = tube_hist[end];"
   ]
  },
  {
   "cell_type": "markdown",
   "id": "7f9fbf1c",
   "metadata": {},
   "source": [
    "## Start"
   ]
  },
  {
   "cell_type": "code",
   "execution_count": null,
   "id": "700d3371",
   "metadata": {},
   "outputs": [],
   "source": [
    "boil_hist=[]\n",
    "plate_T_hist = []\n",
    "tube_hist_u  = []\n",
    "tube_hist_t = []\n",
    "tube_hist_θwall = []"
   ]
  },
  {
   "cell_type": "code",
   "execution_count": null,
   "id": "652d8d7d",
   "metadata": {},
   "outputs": [],
   "source": [
    "using Distributed\n",
    "using ProgressMeter"
   ]
  },
  {
   "cell_type": "code",
   "execution_count": null,
   "id": "9ef18d12",
   "metadata": {
    "scrolled": true
   },
   "outputs": [],
   "source": [
    "@showprogress for t in tspan[1]:tstep:tspan[2]\n",
    "\n",
    "    timemarching!(integrator_tube,integrator_plate,tstep)\n",
    "    \n",
    "    if (mod(integrator_plate.t,dt_record) < 1e-6) || (mod(-integrator_plate.t,dt_record) < 1e-6)\n",
    "        push!(plate_T_hist,deepcopy(temperature(integrator_plate))); \n",
    "        push!(tube_hist_θwall,deepcopy(integrator_tube.p.wall.θarray))\n",
    "        push!(tube_hist_u,deepcopy(integrator_tube.u));\n",
    "        push!(tube_hist_t,deepcopy(integrator_tube.t));\n",
    "        integrator_plate_temp = deepcopy(integrator_plate)\n",
    "#         println(sys.qline[1].q[1:5])\n",
    "    end\n",
    "    \n",
    "end\n",
    "# integrator_plate.t"
   ]
  },
  {
   "cell_type": "code",
   "execution_count": null,
   "id": "3e7be6df",
   "metadata": {
    "scrolled": true
   },
   "outputs": [],
   "source": [
    "boil_hist"
   ]
  },
  {
   "cell_type": "code",
   "execution_count": null,
   "id": "51e5ee06",
   "metadata": {},
   "outputs": [],
   "source": [
    "sysfinal = []\n",
    "for i = 1:length(tube_hist_u)\n",
    "    sysfinaltemp = deepcopy(getcurrentsys(tube_hist_u[i],integrator_tube.p))\n",
    "    sysfinaltemp.wall.θarray = tube_hist_θwall[i]\n",
    "    push!(sysfinal, sysfinaltemp)\n",
    "end"
   ]
  },
  {
   "cell_type": "code",
   "execution_count": null,
   "id": "b9034749",
   "metadata": {
    "scrolled": true
   },
   "outputs": [],
   "source": [
    "gr()\n",
    "Hₗ = sysfinal[1].liquid.Hₗ\n",
    "adjust = 1e-2;\n",
    "\n",
    "anim = @animate for i=1:length(sysfinal)\n",
    "    Htmp = sys_to_Harray(sysfinal[i])\n",
    "    Htmp_marker = round.(div.(Htmp,Hₗ-1e-10))\n",
    "    plot(ohp,clim=(0,2),fillalpha=0,linewidth=2.0,linecolor=palette([:yellow,  :blue, :red]),\n",
    "        line_z=Htmp_marker,xlabel=\"x \",ylabel=\"y \",border=:none,axis=nothing,bbox_inches=\"tight\")\n",
    "        annotate!(0.0, 0.028, string(\"time = \", round(tube_hist_t[i], digits=2), \"[s]\"), :black,legend=false)\n",
    "    scatter!([-0.066+adjust],[-0.028],color=:yellow);scatter!([-0.03+adjust],[-0.028],color=:red);scatter!([0.02+adjust],[-0.028],color=:blue);\n",
    "    annotate!(-0.05+0.002+adjust, -0.028, \"dry vapor\", :black)\n",
    "    annotate!(-0.01+0.005+adjust, -0.028, \"vapor with film\", :black)\n",
    "    annotate!(0.03+0.002+adjust, -0.028, \"liquid\", :black)\n",
    "end\n",
    "gif(anim, \"slug_fps15.gif\", fps = 10)"
   ]
  },
  {
   "cell_type": "code",
   "execution_count": null,
   "id": "87bca50a",
   "metadata": {},
   "outputs": [],
   "source": [
    "    x = [-2.75inch,-1.4inch,-0.8inch,0.0,0.0,0.8inch,1.4inch,2.75inch]\n",
    "    y = [0.0,0.0,0.0,0.0,0.4inch,0.0,0.0,0.0];\n",
    "gr()\n",
    "Tmax = maximum(plate_T_hist[end]) .- 3.8\n",
    "Tmin = minimum(plate_T_hist[1]) .- 3.8\n",
    "xlim = integrator_plate.p.grid.xlim[1]\n",
    "ylim = integrator_plate.p.grid.xlim[2]\n",
    "\n",
    "anim = @animate for i = 1:1:length(sysfinal)\n",
    "# @gif for i = 1:1:1\n",
    "heatmap(plate_T_hist[i].- 3.8,sys.grid,legend=true,color=cgrad(:thermal),\n",
    "        xlimit=xlim,ylimit=ylim,clim=(Tmin,Tmax),line_z=0,xlabel=\"x [m]\",ylabel=\"y [m]\",\n",
    "        colorbar_title = \"\\n T[K]\",right_margin = 5Plots.mm)\n",
    "scatter!([x[1],x[4],x[8]],[y[1],y[4],y[8]])\n",
    "annotate!(x[1]+0.002, y[1]+0.005, \"RTD1\", :white)\n",
    "annotate!(x[4]+0.002, y[4]+0.005, \"RTD4\", :white)\n",
    "annotate!(x[8]-0.001, y[8]+0.005, \"RTD8\", :white)\n",
    "annotate!(0.05, -0.028, string(\"time = \", round(tube_hist_t[i], digits=2), \"[s]\"), :white,legend=false)\n",
    "end\n",
    "gif(anim, \"temperature_fps15.gif\", fps = 10)"
   ]
  },
  {
   "cell_type": "markdown",
   "id": "334f6f1f",
   "metadata": {},
   "source": [
    "## Store data"
   ]
  },
  {
   "cell_type": "code",
   "execution_count": null,
   "id": "83f9b1b0",
   "metadata": {},
   "outputs": [],
   "source": [
    "using JLD2"
   ]
  },
  {
   "cell_type": "code",
   "execution_count": null,
   "id": "2ae0ba37",
   "metadata": {},
   "outputs": [],
   "source": [
    "boil_station_hist = [elem[1] for elem in boil_hist]\n",
    "boil_t_hist = [elem[2] for elem in boil_hist]\n",
    "boil_data = Array(reshape([boil_station_hist;boil_t_hist], length(boil_t_hist),2));"
   ]
  },
  {
   "cell_type": "code",
   "execution_count": null,
   "id": "706021fa",
   "metadata": {},
   "outputs": [],
   "source": [
    "save(dirname(dirname(dirname(pwd())))*\"/OHPnume/OHP2_40W_large.jld2\",\n",
    "    \"tube_hist_θwall\", tube_hist_θwall,\"tube_hist_u\", tube_hist_u,\"tube_hist_t\", tube_hist_t,\n",
    "    \"integrator_tube\",integrator_tube,\"plate_T_hist\", plate_T_hist,\n",
    "    \"integrator_plate\", integrator_plate, \"boil_data\", boil_data,\"ohp\",ohp)"
   ]
  },
  {
   "cell_type": "code",
   "execution_count": null,
   "id": "d5be8748",
   "metadata": {},
   "outputs": [],
   "source": [
    "boiltime_stations"
   ]
  },
  {
   "cell_type": "code",
   "execution_count": null,
   "id": "5047434f",
   "metadata": {
    "scrolled": true
   },
   "outputs": [],
   "source": [
    "using XLSX\n",
    "# namei = \"20190604_F_PD_%23005_O002_H001_P010_expA.xlsx\"\n",
    "# namei = \"20190606_F_PD_%23006_O002_H001_P020_expA.xlsx\"\n",
    "# namei = \"20190612_F_PD_%23007_O002_H001_P030_expA.xlsx\"\n",
    "namei = \"20190613_F_PD_%23008_O002_H001_P040_expA.xlsx\"\n",
    "# namei = \"20190613_F_PD_%23004_O001_H001_P040_expA.xlsx\"\n",
    "# namei = \"20190612_F_PD_%23003_O001_H001_P030_expA.xlsx\"\n",
    "# namei =     \"20190604_F_PD_%23001_O001_H001_P010_expA.xlsx\";\n",
    "#  namei =    \"20190606_F_PD_%23002_O001_H001_P020_expA.xlsx\";\n",
    "\n",
    "xf = XLSX.readxlsx(dirname(dirname(dirname(pwd())))*\"/OHPexp/\"*namei)\n",
    "    Onum, Hnum, power_exp = getconfig(namei)\n",
    "    RTD,RTDt = getRTD(xf,Onum);"
   ]
  },
  {
   "cell_type": "code",
   "execution_count": null,
   "id": "1c5f89ef",
   "metadata": {},
   "outputs": [],
   "source": [
    "    x = [-2.9inch,-1.4inch,-0.8inch,0.0,0.0,0.8inch,1.4inch,2.9inch]\n",
    "    y = [0.0,0.0,0.0,0.0,0.4inch,0.0,0.0,0.0];\n",
    "    X =  VectorData(x,y);\n",
    "    H = Regularize(X,cellsize(sys),I0=origin(sys.grid))\n",
    "    g = ScalarData(X);\n",
    "    ghist = getghist(g,H,plate_T_hist);\n",
    "    thist = tube_hist_t;"
   ]
  },
  {
   "cell_type": "code",
   "execution_count": null,
   "id": "b62e2938",
   "metadata": {},
   "outputs": [],
   "source": [
    "Tᵥ = Tref"
   ]
  },
  {
   "cell_type": "markdown",
   "id": "1efc9e13",
   "metadata": {},
   "source": [
    "# post processing"
   ]
  },
  {
   "cell_type": "code",
   "execution_count": null,
   "id": "9318e8ec",
   "metadata": {},
   "outputs": [],
   "source": [
    "pyplot()\n",
    "i = 1 #RTD number\n",
    "\n",
    "p1 = plot(thist,ghist[i] .-Tᵥ, color=:red, label=string(\"RTD\", i,\" simulation\"),linewidth=2,legend = :topleft)\n",
    "scatter!(RTDt .- RTDt[1],RTD[:,i] .- RTD[1,i], color=:red, label=string(\"RTD\", i,\" experiment\"))\n",
    "\n",
    "i = 4 #RTD number\n",
    "\n",
    "p1 = plot!(thist,ghist[i] .-Tᵥ, color=:green, label=string(\"RTD\", i,\" simulation\"),linewidth=2,legend = :topleft)\n",
    "scatter!(RTDt .- RTDt[1],RTD[:,i] .- RTD[1,i], color=:green, label=string(\"RTD\", i,\" experiment\"))\n",
    "\n",
    "i = 8 #RTD number\n",
    "plot!(thist,ghist[i] .-Tᵥ,color=:orange,label=string(\"RTD\", i,\" simulation\"),linewidth=2)\n",
    "scatter!(RTDt .- RTDt[1],RTD[:,i] .- RTD[1,i], color=:orange, label=string(\"RTD\", i,\" experiment\"),\n",
    "    xlabel=\"time [s]\",ylabel=\"T-T₀ [K]\",xlim=(0,1),ylim=(0,3),title=(\"temperature curve: OHP2 large heater\"))\n",
    "\n",
    "savefig(p1,\"temp_curve.pdf\")"
   ]
  },
  {
   "cell_type": "code",
   "execution_count": null,
   "id": "a4a0d285",
   "metadata": {},
   "outputs": [],
   "source": [
    "M1 = sum.(getMvapor.(sysfinal));\n",
    "M2 = sum.(sum.(getMfilm.(sysfinal)));\n",
    "M3 = sum.(getMliquid.(sysfinal));\n",
    "Mtotal = M1 .+ M2 .+ M3;\n",
    "M0 = Mtotal[1]\n",
    "plot(Mtotal/M0,ylim=(0.999,1.001))"
   ]
  },
  {
   "cell_type": "code",
   "execution_count": null,
   "id": "6df0a053",
   "metadata": {},
   "outputs": [],
   "source": [
    "M2"
   ]
  },
  {
   "cell_type": "code",
   "execution_count": null,
   "id": "bf507893",
   "metadata": {},
   "outputs": [],
   "source": [
    "M3"
   ]
  },
  {
   "cell_type": "code",
   "execution_count": null,
   "id": "f4c0d2ae",
   "metadata": {},
   "outputs": [],
   "source": [
    "θ_interp_walltoliquid\n",
    "    θ_interp_liquidtowall\n",
    "    H_interp_liquidtowall\n",
    "    P_interp_liquidtowall"
   ]
  },
  {
   "cell_type": "code",
   "execution_count": null,
   "id": "3a444107",
   "metadata": {},
   "outputs": [],
   "source": [
    "sysfinal[3].mapping.P_interp_liquidtowall[1.0]"
   ]
  },
  {
   "cell_type": "code",
   "execution_count": null,
   "id": "a79ccff8",
   "metadata": {},
   "outputs": [],
   "source": [
    "phist = []\n",
    "for systemp in sysfinal\n",
    "    ptemp = systemp.mapping.P_interp_liquidtowall[3.0]\n",
    "    push!(phist, ptemp)\n",
    "end"
   ]
  },
  {
   "cell_type": "code",
   "execution_count": null,
   "id": "210a181a",
   "metadata": {},
   "outputs": [],
   "source": [
    "plot(phist)"
   ]
  },
  {
   "cell_type": "code",
   "execution_count": null,
   "id": "c6b84997",
   "metadata": {},
   "outputs": [],
   "source": []
  }
 ],
 "metadata": {
  "@webio": {
   "lastCommId": null,
   "lastKernelId": null
  },
  "kernelspec": {
   "display_name": "Julia 1.8.1",
   "language": "julia",
   "name": "julia-1.8"
  },
  "language_info": {
   "file_extension": ".jl",
   "mimetype": "application/julia",
   "name": "julia",
   "version": "1.8.1"
  }
 },
 "nbformat": 4,
 "nbformat_minor": 5
}
