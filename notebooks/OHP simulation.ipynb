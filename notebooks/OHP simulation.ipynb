{
 "cells": [
  {
   "cell_type": "markdown",
   "id": "30ff098a",
   "metadata": {},
   "source": [
    "# ASETS-II"
   ]
  },
  {
   "cell_type": "markdown",
   "id": "a9000f4b",
   "metadata": {},
   "source": [
    "This is an example of a simulation package for conjugate heat transfer of an oscillating heat pipe. SI units are used and units are emitted"
   ]
  },
  {
   "cell_type": "markdown",
   "id": "f686db23",
   "metadata": {},
   "source": [
    "## Packages\n",
    "If you need to update the ComputationalHeatTransfer package, I suggest you activate the package's path as your current environment. If you don't need to modify the code within the packge, you don't have to run this block."
   ]
  },
  {
   "cell_type": "code",
   "execution_count": null,
   "id": "63445862",
   "metadata": {
    "scrolled": true
   },
   "outputs": [],
   "source": [
    "using Pkg\n",
    "Pkg.activate(dirname(pwd())) # using current environment for development"
   ]
  },
  {
   "cell_type": "markdown",
   "id": "d8bd7ca2",
   "metadata": {},
   "source": [
    "Firstly, let's import the necessary packages, you may need to install them for the first time."
   ]
  },
  {
   "cell_type": "code",
   "execution_count": null,
   "id": "5a98753c",
   "metadata": {},
   "outputs": [],
   "source": [
    "using ComputationalHeatTransfer # our main package\n",
    "using LaTeXStrings # for latex strings\n",
    "using JLD2 # for file input/output\n",
    "using ProgressMeter # to have a progessbar when runing the simulation\n",
    "using XLSX # for reading experimental data in CSV format\n",
    "using Plots # for plotting\n",
    "gr()  #ploting backend (the fastest one)\n"
   ]
  },
  {
   "cell_type": "markdown",
   "id": "79254c3e",
   "metadata": {},
   "source": [
    "## Control Console\n",
    "\n",
    "This block contains the parameters I reckon could be tuned to match the experimental data. \n",
    "As I am still tuning, they are placed here for convenience."
   ]
  },
  {
   "cell_type": "code",
   "execution_count": null,
   "id": "921fe664",
   "metadata": {},
   "outputs": [],
   "source": [
    "OHPtype = \"ASETS-II OHP 2 LARGE HEATER\"\n",
    "power = 40 # total heater power in watts\n",
    "\n",
    "hc = 3000.0 #condenser heat transfer coefficient\n",
    "Rn = 3e-6 # nucleation site radius\n",
    "δfilm = 2e-5 # initial film thickness\n",
    "ad_fac = 1.3 # film thickness factor\n",
    "plate_d = 1.5e-3; # plate thickness\n",
    "η₊ = 0.2 # η+ for the film model\n",
    "η₋ = 0.19 # η- for the film model(sugguested smaller than η+)"
   ]
  },
  {
   "cell_type": "markdown",
   "id": "119ffca0",
   "metadata": {},
   "source": [
    "# Properies"
   ]
  },
  {
   "cell_type": "markdown",
   "id": "2f4a8fd5",
   "metadata": {},
   "source": [
    "### Solid Physical parameters\n",
    "\n",
    "params is the HeatConductionParameters for the plate material (aluminum)."
   ]
  },
  {
   "cell_type": "code",
   "execution_count": null,
   "id": "3bebddb7",
   "metadata": {},
   "outputs": [],
   "source": [
    "ρₛ = 2730; # density\n",
    "cₛ  = 8.93e02; # specific heat\n",
    "kₛ  = 1.93e02; # heat conductivity\n",
    "params = HeatConductionParameters(ρₛ ,cₛ ,kₛ ,thickness=plate_d)"
   ]
  },
  {
   "cell_type": "markdown",
   "id": "66df027a",
   "metadata": {},
   "source": [
    "### Fluid Physical parameters\n",
    "\n",
    "p_fluid contains the vapor and liquid properties at a constant reference temperature. Noted that the vapor pressure and the vapor density will be functions of temperatures during the simulation, other properties are extracted from p_fluid as an approximate value."
   ]
  },
  {
   "cell_type": "code",
   "execution_count": null,
   "id": "b3425a3b",
   "metadata": {},
   "outputs": [],
   "source": [
    "Tref = 291.2 # reference temperature\n",
    "fluid_type = \"Butane\"\n",
    "p_fluid = SaturationFluidProperty(fluid_type,Tref)"
   ]
  },
  {
   "cell_type": "markdown",
   "id": "b367fc8c",
   "metadata": {},
   "source": [
    "# Plate Conduction Part"
   ]
  },
  {
   "cell_type": "markdown",
   "id": "adb4cef7",
   "metadata": {},
   "source": [
    "### Geometry parameters\n",
    "\n",
    "The 2D domain is of rectangular shape (slightly different from ASETS-II). In the future it can be of arbitrary shape using the immersedlayers.jl package."
   ]
  },
  {
   "cell_type": "code",
   "execution_count": null,
   "id": "c71deb68",
   "metadata": {},
   "outputs": [],
   "source": [
    "Lx = 0.1524; # plate size x [m]\n",
    "Ly = 0.0648; # plate size y [m]\n",
    "xlim = (-Lx/2,Lx/2) # plate x limits\n",
    "ylim = (-Ly/2,Ly/2) # plate y limits"
   ]
  },
  {
   "cell_type": "markdown",
   "id": "e8044365",
   "metadata": {},
   "source": [
    "### Set mesh size and maximum time step for plate heat conduction\n",
    "\n",
    "Δx is controlled by Δx = α*gridPe and set having the same order of magitute of tube diameter 1e-3. Fourier number is used to give a safety \"cap\" of time step you can choose in the fluid module"
   ]
  },
  {
   "cell_type": "code",
   "execution_count": null,
   "id": "15d51119",
   "metadata": {},
   "outputs": [],
   "source": [
    "Δx,Δt_max = setstepsizes(params.α,gridPe=8.0,fourier=0.3) "
   ]
  },
  {
   "cell_type": "markdown",
   "id": "c6ea7c9c",
   "metadata": {},
   "source": [
    "### Set up the evaporators and condensers\n",
    "In one sided condenser case, the \"adiabatic\" side is not completely adiabatic in the code. Instead it is a fraction \"hc2ratio\" of the regular condenser htc. And it is a tunable parameter for now as it is a representaion of the insulation material:)"
   ]
  },
  {
   "cell_type": "code",
   "execution_count": null,
   "id": "e90440f1",
   "metadata": {},
   "outputs": [],
   "source": [
    "Tc = Tref; # condenser temperature\n",
    "eparams,cparams = OHPConfiguration(OHPtype,power,Tc,hc,Δx,hc2ratio=1/50);"
   ]
  },
  {
   "cell_type": "markdown",
   "id": "a1eff4a6",
   "metadata": {},
   "source": [
    "### Set up OHP channel's shape\n",
    "construct_ohp_curve is a built-in function that generates two arrays: x that contains all x values of the discrete points, and y contains all y values. x and y have the same length. You can also customize this function to generate an OHP shape of your choice as long as they produce x and y."
   ]
  },
  {
   "cell_type": "code",
   "execution_count": null,
   "id": "4ddeb144",
   "metadata": {},
   "outputs": [],
   "source": [
    "x, y = construct_ohp_curve(\"ASETS\",Δx) # get x and y coordinates for the channel\n",
    "ohp = BasicBody(x,y) # build a BasicBody based on x,y\n",
    "ohpgeom = ComputationalHeatTransfer.LineSourceParams(ohp) # build a line heat source based on BasicBody"
   ]
  },
  {
   "cell_type": "markdown",
   "id": "cedb55b3",
   "metadata": {},
   "source": [
    "This is a exmaple of the compuational domain (the box) and the OHP channel serpentine (in blue)"
   ]
  },
  {
   "cell_type": "code",
   "execution_count": null,
   "id": "6a2ffd8e",
   "metadata": {},
   "outputs": [],
   "source": [
    "plot(ohp,fillalpha=0,linecolor=:blue,xlims=xlim,ylims=ylim,framestyle = :box)"
   ]
  },
  {
   "cell_type": "markdown",
   "id": "4c84a7ee",
   "metadata": {},
   "source": [
    "### Create HeatConduction system\n",
    "The solid module dealing with the 2D conduction, evaporator, condenser, and the OHP line heat source is constructed here."
   ]
  },
  {
   "cell_type": "code",
   "execution_count": null,
   "id": "eb3fb10c",
   "metadata": {},
   "outputs": [],
   "source": [
    "sys = HeatConduction(params,Δx,xlim,ylim,Δt_max,qline=ohpgeom,qflux=eparams,qmodel=cparams)"
   ]
  },
  {
   "cell_type": "markdown",
   "id": "ef0bc172",
   "metadata": {},
   "source": [
    "### Create OHP inner channel system\n",
    "\n",
    "sys_tube: fluid module system\n",
    "\n",
    "u       : fluid module state vector\n",
    "\n",
    "cbst    : fluid module callback function"
   ]
  },
  {
   "cell_type": "code",
   "execution_count": null,
   "id": "0af27476",
   "metadata": {},
   "outputs": [],
   "source": [
    "sys_tube,u,cbst = initialize_ohpsys(OHPtype,fluid_type,sys,p_fluid,Tref,δfilm,η₊,η₋,Rn,ad_fac);"
   ]
  },
  {
   "cell_type": "markdown",
   "id": "1d341937",
   "metadata": {},
   "source": [
    "### set time step"
   ]
  },
  {
   "cell_type": "code",
   "execution_count": null,
   "id": "61c509f0",
   "metadata": {},
   "outputs": [],
   "source": [
    "tspan = (0.0, 10.0); # start time and end time\n",
    "dt_record = 0.2     # saving time interval\n",
    "num_data = (tspan[2] - tspan[1]) / dt_record # calculate the number of saving data points\n",
    "\n",
    "tstep = 5e-4        # actrual time marching step"
   ]
  },
  {
   "cell_type": "markdown",
   "id": "49a55118",
   "metadata": {},
   "source": [
    "### combine inner tube and plate together"
   ]
  },
  {
   "cell_type": "code",
   "execution_count": null,
   "id": "f698133f",
   "metadata": {},
   "outputs": [],
   "source": [
    "u_plate = newstate(sys) .+ Tref # initialize T field\n",
    "integrator_plate = init(u_plate,tspan,sys) # construct integrator_plate"
   ]
  },
  {
   "cell_type": "code",
   "execution_count": null,
   "id": "df4a6a45",
   "metadata": {},
   "outputs": [],
   "source": [
    "prob = ODEProblem(ODE_innertube, u, tspan, sys_tube) # construct integrator_tube problem\n",
    "integrator_tube = init(prob, RK4(),save_on=false, dt=tstep, callback=cbst,maxiters=1e10); # construct integrator_tube"
   ]
  },
  {
   "cell_type": "markdown",
   "id": "7f9fbf1c",
   "metadata": {},
   "source": [
    "### initialize arrays for saving"
   ]
  },
  {
   "cell_type": "code",
   "execution_count": null,
   "id": "700d3371",
   "metadata": {},
   "outputs": [],
   "source": [
    "boil_hist=[]\n",
    "plate_T_hist = []\n",
    "tube_hist_u  = []\n",
    "tube_hist_t = []\n",
    "tube_hist_θwall = []"
   ]
  },
  {
   "cell_type": "markdown",
   "id": "c14f07fb",
   "metadata": {},
   "source": [
    "### Run the simulation and store data"
   ]
  },
  {
   "cell_type": "code",
   "execution_count": null,
   "id": "9ef18d12",
   "metadata": {
    "scrolled": true
   },
   "outputs": [],
   "source": [
    "@showprogress for t in tspan[1]:tstep:tspan[2]\n",
    "\n",
    "    timemarching!(integrator_tube,integrator_plate,tstep)\n",
    "    \n",
    "    if (mod(integrator_plate.t,dt_record) < 1e-6) || (mod(-integrator_plate.t,dt_record) < 1e-6)\n",
    "        push!(plate_T_hist,deepcopy(temperature(integrator_plate))); \n",
    "        push!(tube_hist_θwall,deepcopy(integrator_tube.p.wall.θarray))\n",
    "        push!(tube_hist_u,deepcopy(integrator_tube.u));\n",
    "        push!(tube_hist_t,deepcopy(integrator_tube.t));\n",
    "        integrator_plate_temp = deepcopy(integrator_plate)\n",
    "#         println(integrator_plate.t)\n",
    "    end\n",
    "    \n",
    "end\n",
    "# integrator_plate.t"
   ]
  },
  {
   "cell_type": "code",
   "execution_count": null,
   "id": "2f4abef2",
   "metadata": {},
   "outputs": [],
   "source": [
    "boil_hist"
   ]
  },
  {
   "cell_type": "markdown",
   "id": "9798855c",
   "metadata": {},
   "source": [
    "### Convert state vector to system, for post-processing conveience"
   ]
  },
  {
   "cell_type": "code",
   "execution_count": null,
   "id": "51e5ee06",
   "metadata": {},
   "outputs": [],
   "source": [
    "sysfinal = []\n",
    "for i = 1:length(tube_hist_u)\n",
    "    sysfinaltemp = deepcopy(getcurrentsys(tube_hist_u[i],integrator_tube.p))\n",
    "    sysfinaltemp.wall.θarray = tube_hist_θwall[i]\n",
    "    push!(sysfinal, sysfinaltemp)\n",
    "end"
   ]
  },
  {
   "cell_type": "markdown",
   "id": "04c0e2b4",
   "metadata": {},
   "source": [
    "## Store data"
   ]
  },
  {
   "cell_type": "code",
   "execution_count": null,
   "id": "08ee7c1d",
   "metadata": {},
   "outputs": [],
   "source": [
    "boil_station_hist = [elem[1] for elem in boil_hist]\n",
    "boil_t_hist = [elem[2] for elem in boil_hist]\n",
    "boil_data = Array(reshape([boil_station_hist;boil_t_hist], length(boil_t_hist),2));"
   ]
  },
  {
   "cell_type": "code",
   "execution_count": null,
   "id": "7e5f652e",
   "metadata": {},
   "outputs": [],
   "source": [
    "save(dirname(dirname(dirname(pwd())))*\"/OHPnume/OHP2_40W_large.jld2\",\n",
    "    \"tube_hist_θwall\", tube_hist_θwall,\"tube_hist_u\", tube_hist_u,\"tube_hist_t\", tube_hist_t,\n",
    "    \"integrator_tube\",integrator_tube,\"plate_T_hist\", plate_T_hist,\n",
    "    \"integrator_plate\", integrator_plate, \"boil_data\", boil_data,\"ohp\",ohp)"
   ]
  },
  {
   "cell_type": "code",
   "execution_count": null,
   "id": "b9034749",
   "metadata": {
    "scrolled": true
   },
   "outputs": [],
   "source": [
    "gr()\n",
    "Hₗ = sysfinal[1].liquid.Hₗ\n",
    "adjust = 1e-2;\n",
    "\n",
    "anim = @animate for i=1:length(sysfinal)\n",
    "    Htmp = sys_to_Harray(sysfinal[i])\n",
    "    Htmp_marker = round.(div.(Htmp,Hₗ-1e-10))\n",
    "    plot(ohp,clim=(0,2),fillalpha=0,linewidth=2.0,linecolor=palette([:red,  :blue, :yellow]),\n",
    "        line_z=Htmp_marker,xlabel=\"x \",ylabel=\"y \",border=:none,axis=nothing,bbox_inches=\"tight\")\n",
    "        annotate!(0.0, 0.028, string(\"time = \", round(tube_hist_t[i], digits=2), \"[s]\"), :black,legend=false)\n",
    "    scatter!([-0.066+adjust],[-0.028],color=:red);scatter!([-0.03+adjust],[-0.028],color=:yellow);scatter!([0.02+adjust],[-0.028],color=:blue);\n",
    "    annotate!(-0.05+0.002+adjust, -0.028, \"dry vapor\", :black)\n",
    "    annotate!(-0.01+0.005+adjust, -0.028, \"vapor with film\", :black)\n",
    "    annotate!(0.03+0.002+adjust, -0.028, \"liquid\", :black)\n",
    "end\n",
    "gif(anim, \"slug_fps15.gif\", fps = 30)"
   ]
  },
  {
   "cell_type": "code",
   "execution_count": null,
   "id": "87bca50a",
   "metadata": {},
   "outputs": [],
   "source": [
    "    x = [-2.75inch,-1.4inch,-0.8inch,0.0,0.0,0.8inch,1.4inch,2.75inch]\n",
    "    y = [0.0,0.0,0.0,0.0,0.4inch,0.0,0.0,0.0];\n",
    "gr()\n",
    "Tmax = maximum(plate_T_hist[end]) .- 3.8\n",
    "Tmin = minimum(plate_T_hist[1]) .- 3.8\n",
    "xlim = integrator_plate.p.grid.xlim[1]\n",
    "ylim = integrator_plate.p.grid.xlim[2]\n",
    "\n",
    "anim = @animate for i = 1:1:length(sysfinal)\n",
    "# @gif for i = 1:1:1\n",
    "heatmap(plate_T_hist[i].- 3.8,sys.grid,legend=true,color=cgrad(:thermal),\n",
    "        xlimit=xlim,ylimit=ylim,clim=(Tmin,Tmax),line_z=0,xlabel=\"x [m]\",ylabel=\"y [m]\",\n",
    "        colorbar_title = \"\\n T[K]\",right_margin = 5Plots.mm)\n",
    "scatter!([x[1],x[4],x[8]],[y[1],y[4],y[8]])\n",
    "annotate!(x[1]+0.002, y[1]+0.005, \"RTD1\", :white)\n",
    "annotate!(x[4]+0.002, y[4]+0.005, \"RTD4\", :white)\n",
    "annotate!(x[8]-0.001, y[8]+0.005, \"RTD8\", :white)\n",
    "annotate!(0.05, -0.028, string(\"time = \", round(tube_hist_t[i], digits=2), \"[s]\"), :white,legend=false)\n",
    "end\n",
    "gif(anim, \"temperature_fps15.gif\", fps = 10)"
   ]
  },
  {
   "cell_type": "code",
   "execution_count": null,
   "id": "5047434f",
   "metadata": {
    "scrolled": true
   },
   "outputs": [],
   "source": [
    "# namei = \"20190604_F_PD_%23005_O002_H001_P010_expA.xlsx\"\n",
    "# namei = \"20190606_F_PD_%23006_O002_H001_P020_expA.xlsx\"\n",
    "# namei = \"20190612_F_PD_%23007_O002_H001_P030_expA.xlsx\"\n",
    "namei = \"20190613_F_PD_%23008_O002_H001_P040_expA.xlsx\"\n",
    "# namei = \"20190613_F_PD_%23004_O001_H001_P040_expA.xlsx\"\n",
    "# namei = \"20190612_F_PD_%23003_O001_H001_P030_expA.xlsx\"\n",
    "# namei =     \"20190604_F_PD_%23001_O001_H001_P010_expA.xlsx\";\n",
    "#  namei =    \"20190606_F_PD_%23002_O001_H001_P020_expA.xlsx\";\n",
    "\n",
    "xf = XLSX.readxlsx(dirname(dirname(dirname(pwd())))*\"/OHPexp/\"*namei)\n",
    "    Onum, Hnum, power_exp = getconfig(namei)\n",
    "    RTD,RTDt = getRTD(xf,Onum);"
   ]
  },
  {
   "cell_type": "code",
   "execution_count": null,
   "id": "1c5f89ef",
   "metadata": {},
   "outputs": [],
   "source": [
    "    x = [-2.75inch,-1.4inch,-0.8inch,0.0,0.0,0.8inch,1.4inch,2.75inch]\n",
    "    y = [0.0,0.0,0.0,0.0,0.4inch,0.0,0.0,0.0];\n",
    "    X =  VectorData(x,y);\n",
    "    H = Regularize(X,cellsize(sys),I0=origin(sys.grid))\n",
    "    g = ScalarData(X);\n",
    "    ghist = getghist(g,H,plate_T_hist);\n",
    "    thist = tube_hist_t;"
   ]
  },
  {
   "cell_type": "code",
   "execution_count": null,
   "id": "b62e2938",
   "metadata": {},
   "outputs": [],
   "source": [
    "Tᵥ = Tref"
   ]
  },
  {
   "cell_type": "markdown",
   "id": "1efc9e13",
   "metadata": {},
   "source": [
    "# post processing"
   ]
  },
  {
   "cell_type": "code",
   "execution_count": null,
   "id": "9318e8ec",
   "metadata": {},
   "outputs": [],
   "source": [
    "pyplot()\n",
    "i = 1 #RTD number\n",
    "\n",
    "p1 = plot(thist,ghist[i] .-Tᵥ, color=:red, label=string(\"RTD\", i,\" simulation\"),linewidth=2,legend = :topleft)\n",
    "scatter!(RTDt .- RTDt[1],RTD[:,i] .- RTD[1,i], color=:red, label=string(\"RTD\", i,\" experiment\"))\n",
    "\n",
    "i = 4 #RTD number\n",
    "\n",
    "p1 = plot!(thist,ghist[i] .-Tᵥ, color=:green, label=string(\"RTD\", i,\" simulation\"),linewidth=2,legend = :topleft)\n",
    "scatter!(RTDt .- RTDt[1],RTD[:,i] .- RTD[1,i], color=:green, label=string(\"RTD\", i,\" experiment\"))\n",
    "\n",
    "i = 8 #RTD number\n",
    "plot!(thist,ghist[i] .-Tᵥ,color=:orange,label=string(\"RTD\", i,\" simulation\"),linewidth=2)\n",
    "scatter!(RTDt .- RTDt[1],RTD[:,i] .- RTD[1,i], color=:orange, label=string(\"RTD\", i,\" experiment\"),\n",
    "    xlabel=\"time [s]\",ylabel=\"T-T₀ [K]\",xlim=(0,100),ylim=(0,50),title=(\"temperature curve: OHP2 large heater\"))\n",
    "\n",
    "savefig(p1,\"temp_curve.pdf\")"
   ]
  },
  {
   "cell_type": "markdown",
   "id": "7f206dff",
   "metadata": {},
   "source": [
    "### get total mass curve"
   ]
  },
  {
   "cell_type": "code",
   "execution_count": null,
   "id": "a4a0d285",
   "metadata": {},
   "outputs": [],
   "source": [
    "M1 = sum.(getMvapor.(sysfinal));\n",
    "M2 = sum.(sum.(getMfilm.(sysfinal)));\n",
    "M3 = sum.(getMliquid.(sysfinal));\n",
    "Mtotal = M1 .+ M2 .+ M3;\n",
    "M0 = Mtotal[1]\n",
    "plot(Mtotal/M0,ylim=(0.999,1.001))"
   ]
  },
  {
   "cell_type": "code",
   "execution_count": null,
   "id": "02b8cd28",
   "metadata": {},
   "outputs": [],
   "source": [
    "θ_interp_walltoliquid\n",
    "    θ_interp_liquidtowall\n",
    "    H_interp_liquidtowall\n",
    "    P_interp_liquidtowall"
   ]
  },
  {
   "cell_type": "markdown",
   "id": "0130d0f0",
   "metadata": {},
   "source": [
    "sysfinal[3].mapping.P_interp_liquidtowall[1.0]"
   ]
  },
  {
   "cell_type": "markdown",
   "id": "6e8b43b3",
   "metadata": {},
   "source": [
    "# Red for dryout!"
   ]
  },
  {
   "cell_type": "markdown",
   "id": "9ce1d603",
   "metadata": {},
   "source": [
    "## get P or T at fixed locations"
   ]
  },
  {
   "cell_type": "code",
   "execution_count": null,
   "id": "050261f5",
   "metadata": {},
   "outputs": [],
   "source": [
    "using Interpolations"
   ]
  },
  {
   "cell_type": "code",
   "execution_count": null,
   "id": "3e7020d9",
   "metadata": {},
   "outputs": [],
   "source": [
    "x1Dto2D = LinearInterpolation(sys.qline[1].arccoord, ohp.x);\n",
    "y1Dto2D = LinearInterpolation(sys.qline[1].arccoord, ohp.y);"
   ]
  },
  {
   "cell_type": "code",
   "execution_count": null,
   "id": "8f51ec7a",
   "metadata": {},
   "outputs": [],
   "source": [
    "xsensors = 0.1:0.1:4.6"
   ]
  },
  {
   "cell_type": "markdown",
   "id": "32dd1598",
   "metadata": {},
   "source": [
    "## sensor locations"
   ]
  },
  {
   "cell_type": "code",
   "execution_count": null,
   "id": "00743fdb",
   "metadata": {},
   "outputs": [],
   "source": [
    "p1 = plot()\n",
    "for i = 1:length(xsensors)\n",
    "    scatter!(p1, [x1Dto2D[xsensors[i]]],[y1Dto2D[xsensors[i]]],label=string(\"y\",i))\n",
    "end\n",
    "plot!(p1,ohp,fillalpha=0,linecolor=:black,xlims=xlim,ylims=ylim,framestyle = :box,label=\"\",legend=:right)\n",
    "p1"
   ]
  },
  {
   "cell_type": "code",
   "execution_count": null,
   "id": "338ddb57",
   "metadata": {},
   "outputs": [],
   "source": [
    "θhist = []\n",
    "phist = []\n",
    "for systemp in sysfinal\n",
    "    ptemp = systemp.mapping.P_interp_liquidtowall[xsensors]\n",
    "    push!(phist, ptemp)\n",
    "end\n",
    "phist = hcat(phist...)"
   ]
  },
  {
   "cell_type": "markdown",
   "id": "53a5530b",
   "metadata": {},
   "source": [
    "## pressure sensor results"
   ]
  },
  {
   "cell_type": "code",
   "execution_count": null,
   "id": "cf0c5e6b",
   "metadata": {},
   "outputs": [],
   "source": [
    "plot(thist,phist',xlim=(65,70),xlabel=\"time[s]\",ylabel=\"pressure [Pa]\")"
   ]
  },
  {
   "cell_type": "code",
   "execution_count": null,
   "id": "53f57525",
   "metadata": {},
   "outputs": [],
   "source": [
    "plot(phist)"
   ]
  },
  {
   "cell_type": "code",
   "execution_count": null,
   "id": "23477068",
   "metadata": {},
   "outputs": [],
   "source": []
  },
  {
   "cell_type": "code",
   "execution_count": null,
   "id": "fbf8aa21",
   "metadata": {},
   "outputs": [],
   "source": [
    "ohp.x"
   ]
  },
  {
   "cell_type": "code",
   "execution_count": null,
   "id": "a361fc12",
   "metadata": {},
   "outputs": [],
   "source": [
    "sys.qline[1].arccoord"
   ]
  },
  {
   "cell_type": "code",
   "execution_count": null,
   "id": "c8cf744d",
   "metadata": {},
   "outputs": [],
   "source": [
    "x1Dto2D[0.3]\n",
    "y1Dto2D[0.3]"
   ]
  },
  {
   "cell_type": "code",
   "execution_count": null,
   "id": "f3e3fd1d",
   "metadata": {},
   "outputs": [],
   "source": [
    "\"asd\"*string(2)"
   ]
  },
  {
   "cell_type": "code",
   "execution_count": null,
   "id": "0c4e657b",
   "metadata": {},
   "outputs": [],
   "source": []
  }
 ],
 "metadata": {
  "@webio": {
   "lastCommId": null,
   "lastKernelId": null
  },
  "kernelspec": {
   "display_name": "Julia 1.8.1",
   "language": "julia",
   "name": "julia-1.8"
  },
  "language_info": {
   "file_extension": ".jl",
   "mimetype": "application/julia",
   "name": "julia",
   "version": "1.8.1"
  }
 },
 "nbformat": 4,
 "nbformat_minor": 5
}
