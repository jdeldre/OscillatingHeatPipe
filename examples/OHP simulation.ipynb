{
 "cells": [
  {
   "cell_type": "markdown",
   "metadata": {},
   "source": [
    "# ASETS-II"
   ]
  },
  {
   "cell_type": "markdown",
   "metadata": {},
   "source": [
    "This is an example of a simulation package for conjugate heat transfer of an oscillating heat pipe. SI units are used and units are emitted"
   ]
  },
  {
   "cell_type": "markdown",
   "metadata": {},
   "source": [
    "## Packages\n",
    "If you need to update the ComputationalHeatTransfer package, I suggest you activate the package's path as your current environment. If you don't need to modify the code within the packge, you don't have to run this block."
   ]
  },
  {
   "cell_type": "code",
   "execution_count": null,
   "metadata": {},
   "outputs": [],
   "source": [
    "using Pkg\n",
    "Pkg.activate(dirname(pwd())) # using current environment for development"
   ]
  },
  {
   "cell_type": "markdown",
   "metadata": {},
   "source": [
    "Firstly, let's import the necessary packages, you may need to install them for the first time."
   ]
  },
  {
   "cell_type": "code",
   "execution_count": null,
   "metadata": {},
   "outputs": [],
   "source": [
    "using ComputationalHeatTransfer # our main package\n",
    "using LaTeXStrings # for latex strings\n",
    "using JLD2 # for file input/output\n",
    "using ProgressMeter # to have a progessbar when runing the simulation\n",
    "using XLSX # for reading experimental data in CSV format\n",
    "using Plots # for plotting\n",
    "gr()  #ploting backend (the fastest one)"
   ]
  },
  {
   "cell_type": "markdown",
   "metadata": {},
   "source": [
    "## Control Console"
   ]
  },
  {
   "cell_type": "markdown",
   "metadata": {},
   "source": [
    "This block contains the parameters I reckon could be tuned to match the experimental data.\n",
    "As I am still tuning, they are placed here for convenience."
   ]
  },
  {
   "cell_type": "code",
   "execution_count": null,
   "metadata": {},
   "outputs": [],
   "source": [
    "OHPtype = \"ASETS-II OHP 2 LARGE HEATER\"\n",
    "power = 40 # total heater power in watts\n",
    "\n",
    "hc = 1500.0 #condenser heat transfer coefficient\n",
    "Rn = 3e-6 # nucleation site radius\n",
    "δfilm = 2e-5 # initial film thickness (sugguested 5e-6-5e-5)\n",
    "ad_fac = 1.3 # film thickness factor (sugguested 1.0-1.5)\n",
    "plate_d = 1.5e-3; # plate thickness\n",
    "η₊ = 0.15 # η+ for the film model\n",
    "η₋ = 0.0 # η- for the film model(sugguested smaller than η+)"
   ]
  },
  {
   "cell_type": "markdown",
   "metadata": {},
   "source": [
    "# Properies"
   ]
  },
  {
   "cell_type": "markdown",
   "metadata": {},
   "source": [
    "## Solid Physical parameters"
   ]
  },
  {
   "cell_type": "markdown",
   "metadata": {},
   "source": [
    "params is the HeatConductionParameters for the plate material (aluminum)."
   ]
  },
  {
   "cell_type": "code",
   "execution_count": null,
   "metadata": {},
   "outputs": [],
   "source": [
    "ρₛ = 2730; # density\n",
    "cₛ  = 8.93e02; # specific heat\n",
    "kₛ  = 1.93e02; # heat conductivity\n",
    "params = HeatConductionParameters(ρₛ ,cₛ ,kₛ ,thickness=plate_d)"
   ]
  },
  {
   "cell_type": "markdown",
   "metadata": {},
   "source": [
    "## Fluid Physical parameters"
   ]
  },
  {
   "cell_type": "markdown",
   "metadata": {},
   "source": [
    "p_fluid contains the vapor and liquid properties at a constant reference temperature. Noted that the vapor pressure and the vapor density will be functions of temperatures during the simulation, other properties are extracted from p_fluid as an approximate value."
   ]
  },
  {
   "cell_type": "code",
   "execution_count": null,
   "metadata": {},
   "outputs": [],
   "source": [
    "Tref = 291.2 # reference temperature\n",
    "fluid_type = \"Butane\"\n",
    "p_fluid = SaturationFluidProperty(fluid_type,Tref)"
   ]
  },
  {
   "cell_type": "markdown",
   "metadata": {},
   "source": [
    "# Plate Conduction Part"
   ]
  },
  {
   "cell_type": "markdown",
   "metadata": {},
   "source": [
    "### Geometry parameters\n",
    "The 2D domain is of rectangular shape (slightly different from ASETS-II). In the future it can be of arbitrary shape using the immersedlayers.jl package."
   ]
  },
  {
   "cell_type": "code",
   "execution_count": null,
   "metadata": {},
   "outputs": [],
   "source": [
    "Lx = 0.1524; # plate size x [m]\n",
    "Ly = 0.0648; # plate size y [m]\n",
    "xlim = (-Lx/2,Lx/2) # plate x limits\n",
    "ylim = (-Ly/2,Ly/2) # plate y limits"
   ]
  },
  {
   "cell_type": "markdown",
   "metadata": {},
   "source": [
    "### Set mesh size and maximum time step for plate heat conduction\n",
    "Δx is controlled by Δx = α*gridPe and set having the same order of magitute of tube diameter 1e-3. Fourier number is used to give a safety \"cap\" of time step you can choose in the fluid module"
   ]
  },
  {
   "cell_type": "code",
   "execution_count": null,
   "metadata": {},
   "outputs": [],
   "source": [
    "Δx,Δt_max = setstepsizes(params.α,gridPe=8.0,fourier=0.3)"
   ]
  },
  {
   "cell_type": "markdown",
   "metadata": {},
   "source": [
    "### Set up the evaporators and condensers\n",
    "In one sided condenser case, the \"adiabatic\" side is not completely adiabatic in the code. Instead it is a fraction \"hc2ratio\" of the regular condenser htc. And it is a tunable parameter for now as it is a representaion of the insulation material:)"
   ]
  },
  {
   "cell_type": "code",
   "execution_count": null,
   "metadata": {},
   "outputs": [],
   "source": [
    "Tc = Tref; # condenser temperature\n",
    "eparams,cparams = OHPConfiguration(OHPtype,power,Tc,hc,Δx,hc2ratio=1/30);"
   ]
  },
  {
   "cell_type": "markdown",
   "metadata": {},
   "source": [
    "### Set up OHP channel's shape\n",
    "construct_ohp_curve is a built-in function that generates two arrays: x that contains all x values of the discrete points, and y contains all y values. x and y have the same length. You can also customize this function to generate an OHP shape of your choice as long as they produce x and y."
   ]
  },
  {
   "cell_type": "code",
   "execution_count": null,
   "metadata": {},
   "outputs": [],
   "source": [
    "x, y = construct_ohp_curve(\"ASETS\",Δx) # get x and y coordinates for the channel\n",
    "ohp = BasicBody(x,y) # build a BasicBody based on x,y"
   ]
  },
  {
   "cell_type": "markdown",
   "metadata": {},
   "source": [
    "This is a exmaple of the compuational domain (the box) and the OHP channel serpentine (in blue)"
   ]
  },
  {
   "cell_type": "code",
   "execution_count": null,
   "metadata": {},
   "outputs": [],
   "source": [
    "plot(ohp,fillalpha=0,linecolor=:blue,xlims=xlim,ylims=ylim,framestyle = :box)"
   ]
  },
  {
   "cell_type": "markdown",
   "metadata": {},
   "source": [
    "### Create HeatConduction system\n",
    "The solid module dealing with the 2D conduction, evaporator, condenser, and the OHP line heat source is constructed here."
   ]
  },
  {
   "cell_type": "code",
   "execution_count": null,
   "metadata": {},
   "outputs": [],
   "source": [
    "ohpgeom = ComputationalHeatTransfer.LineSourceParams(ohp) # build a line heat source based on BasicBody\n",
    "sys = HeatConduction(params,Δx,xlim,ylim,Δt_max,qline=ohpgeom,qflux=eparams,qmodel=cparams)"
   ]
  },
  {
   "cell_type": "markdown",
   "metadata": {},
   "source": [
    "### Create OHP inner channel system\n",
    "sys_tube: fluid module system"
   ]
  },
  {
   "cell_type": "code",
   "execution_count": null,
   "metadata": {},
   "outputs": [],
   "source": [
    "sys_tube = initialize_ohpsys(OHPtype,fluid_type,sys,p_fluid,Tref,δfilm,η₊,η₋,Rn,ad_fac,power)"
   ]
  },
  {
   "cell_type": "markdown",
   "metadata": {},
   "source": [
    "### set time step"
   ]
  },
  {
   "cell_type": "code",
   "execution_count": null,
   "metadata": {},
   "outputs": [],
   "source": [
    "tspan = (0.0, 300.0); # start time and end time\n",
    "dt_record = 0.5     # saving time interval\n",
    "num_data = (tspan[2] - tspan[1]) / dt_record # calculate the number of saving data points\n",
    "\n",
    "tstep = 5e-4        # actrual time marching step"
   ]
  },
  {
   "cell_type": "markdown",
   "metadata": {},
   "source": [
    "### combine inner tube and plate together"
   ]
  },
  {
   "cell_type": "code",
   "execution_count": null,
   "metadata": {},
   "outputs": [],
   "source": [
    "u_plate = newstate(sys) .+ Tref # initialize plate T field to uniform Tref\n",
    "integrator_plate = init(u_plate,tspan,sys) # construct integrator_plate\n",
    "\n",
    "u_tube = newstate(sys_tube) # initialize OHP tube \n",
    "integrator_tube = init(u_tube,tspan,sys_tube); # construct integrator_tube"
   ]
  },
  {
   "cell_type": "markdown",
   "metadata": {},
   "source": [
    "### initialize arrays for saving"
   ]
  },
  {
   "cell_type": "code",
   "execution_count": null,
   "metadata": {},
   "outputs": [],
   "source": [
    "sr = SimulationResult();"
   ]
  },
  {
   "cell_type": "markdown",
   "metadata": {},
   "source": [
    "### Run the simulation and store data"
   ]
  },
  {
   "cell_type": "code",
   "execution_count": null,
   "metadata": {},
   "outputs": [],
   "source": [
    "@showprogress for t in tspan[1]:tstep:tspan[2]\n",
    "\n",
    "    timemarching!(integrator_tube,integrator_plate,tstep)\n",
    "\n",
    "    if (mod(integrator_plate.t,dt_record) < 1e-6) || (mod(-integrator_plate.t,dt_record) < 1e-6)\n",
    "        store!(sr,integrator_tube,integrator_plate)\n",
    "    end\n",
    "\n",
    "end"
   ]
  },
  {
   "cell_type": "markdown",
   "metadata": {},
   "source": [
    "## Store data"
   ]
  },
  {
   "cell_type": "code",
   "execution_count": null,
   "metadata": {},
   "outputs": [],
   "source": [
    "save_path = dirname(dirname(dirname(pwd())))*\"/OHPnume/OHP2_40W_large.jld2\"\n",
    "save(save_path,\"SimulationResult\",sr,\"integrator_tube\",integrator_tube,\"integrator_plate\",integrator_plate,\"ohp\",ohp)"
   ]
  },
  {
   "cell_type": "markdown",
   "metadata": {},
   "source": [
    "---\n",
    "\n",
    "*This notebook was generated using [Literate.jl](https://github.com/fredrikekre/Literate.jl).*"
   ]
  }
 ],
 "metadata": {
  "kernelspec": {
   "display_name": "Julia 1.8.1",
   "language": "julia",
   "name": "julia-1.8"
  },
  "language_info": {
   "file_extension": ".jl",
   "mimetype": "application/julia",
   "name": "julia",
   "version": "1.8.1"
  }
 },
 "nbformat": 4,
 "nbformat_minor": 3
}
