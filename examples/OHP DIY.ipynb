{
 "cells": [
  {
   "cell_type": "markdown",
   "metadata": {},
   "source": [
    "# DIY"
   ]
  },
  {
   "cell_type": "markdown",
   "metadata": {},
   "source": [
    "This notebooks shows how to custimize the heater/condenser and ohp configuration"
   ]
  },
  {
   "cell_type": "markdown",
   "metadata": {},
   "source": [
    "## Packages\n",
    "If you need to update the ComputationalHeatTransfer package, I suggest you activate the package's path as your current environment. If you don't need to modify the code within the packge, you don't have to run this block."
   ]
  },
  {
   "cell_type": "code",
   "execution_count": null,
   "metadata": {},
   "outputs": [],
   "source": [
    "using Pkg\n",
    "Pkg.activate(dirname(pwd())) # using current environment for development"
   ]
  },
  {
   "cell_type": "markdown",
   "metadata": {},
   "source": [
    "Firstly, let's import the necessary packages, you may need to install them for the first time."
   ]
  },
  {
   "cell_type": "code",
   "execution_count": null,
   "metadata": {},
   "outputs": [],
   "source": [
    "using ComputationalHeatTransfer # our main package\n",
    "using ProgressMeter # to have a progessbar when runing the simulation\n",
    "using Plots # for plotting\n",
    "gr()  #ploting backend (the fastest one)"
   ]
  },
  {
   "cell_type": "markdown",
   "metadata": {},
   "source": [
    "# # Specify properties"
   ]
  },
  {
   "cell_type": "markdown",
   "metadata": {},
   "source": [
    "## Solid Physical parameters"
   ]
  },
  {
   "cell_type": "markdown",
   "metadata": {},
   "source": [
    "params is the HeatConductionParameters for the plate material.\n",
    "\n",
    "The numbers below represents aluminum."
   ]
  },
  {
   "cell_type": "code",
   "execution_count": null,
   "metadata": {},
   "outputs": [],
   "source": [
    "ρₛ = 2730; # density\n",
    "cₛ  = 8.93e02; # specific heat\n",
    "kₛ  = 1.93e02; # heat conductivity\n",
    "plate_d = 1.5e-3; # effective d (The thickness of an ideal uniform thickness plate occupying the same volume)\n",
    "params = HeatConductionParameters(ρₛ ,cₛ ,kₛ ,thickness=plate_d)"
   ]
  },
  {
   "cell_type": "markdown",
   "metadata": {},
   "source": [
    "## Fluid Physical parameters"
   ]
  },
  {
   "cell_type": "markdown",
   "metadata": {},
   "source": [
    "p_fluid contains the vapor and liquid properties at a constant reference temperature. Noted that the vapor pressure and the vapor density will be functions of temperatures during the simulation, other properties are extracted from p_fluid as an approximate value."
   ]
  },
  {
   "cell_type": "code",
   "execution_count": null,
   "metadata": {},
   "outputs": [],
   "source": [
    "Tref = 291.2 # reference temperature\n",
    "fluid_type = \"Butane\"\n",
    "p_fluid = SaturationFluidProperty(fluid_type,Tref)"
   ]
  },
  {
   "cell_type": "markdown",
   "metadata": {},
   "source": [
    "# Set the geometries"
   ]
  },
  {
   "cell_type": "markdown",
   "metadata": {},
   "source": [
    "### Geometry parameters\n",
    "The 2D domain is of rectangular shape (slightly different from ASETS-II). In the future it can be of arbitrary shape using the immersedlayers.jl package."
   ]
  },
  {
   "cell_type": "code",
   "execution_count": null,
   "metadata": {},
   "outputs": [],
   "source": [
    "Lx = 0.1524; # plate size x [m]\n",
    "Ly = 0.0648; # plate size y [m]\n",
    "xlim = (-Lx/2,Lx/2) # plate x limits\n",
    "ylim = (-Ly/2,Ly/2) # plate y limits"
   ]
  },
  {
   "cell_type": "markdown",
   "metadata": {},
   "source": [
    "### Set mesh size and maximum time step for plate heat conduction\n",
    "Δx is controlled by Δx = α*gridPe and set having the same order of magitute of tube diameter 1e-3. Fourier number is used to give a safety \"cap\" of time step you can choose in the fluid module"
   ]
  },
  {
   "cell_type": "code",
   "execution_count": null,
   "metadata": {},
   "outputs": [],
   "source": [
    "Δx,Δt_max = setstepsizes(params.α,gridPe=8.0,fourier=0.3)"
   ]
  },
  {
   "cell_type": "markdown",
   "metadata": {},
   "source": [
    "### Set up the evaporators and condensers\n",
    "Right now, the OHPtype looks up a preset dictionary of OHP evaporators and condensers.\n",
    "\n",
    "You can also customize them in the OHP DIY notebook.\n",
    "\n",
    "Firstly let's give the total heater power"
   ]
  },
  {
   "cell_type": "code",
   "execution_count": null,
   "metadata": {},
   "outputs": [],
   "source": [
    "power = 10 # total heater power in watts"
   ]
  },
  {
   "cell_type": "markdown",
   "metadata": {},
   "source": [
    "Then let's construct a heater"
   ]
  },
  {
   "cell_type": "code",
   "execution_count": null,
   "metadata": {},
   "outputs": [],
   "source": [
    "Lheater_x = Lx*0.1\n",
    "Lheater_y = Ly*0.9\n",
    "\n",
    "qe = power/Lheater_x/Lheater_y\n",
    "\n",
    "eb1 = Rectangle(Lheater_x/2,Lheater_x/2,1.5*Δx)\n",
    "Tfe = RigidTransform((0.0,-0.0),0.0)\n",
    "Tfe(eb1)\n",
    "\n",
    "eparams = [PrescribedHeatFluxRegion(qe,eb1)];"
   ]
  },
  {
   "cell_type": "markdown",
   "metadata": {},
   "source": [
    "Then let's consctruct a condenser"
   ]
  },
  {
   "cell_type": "code",
   "execution_count": null,
   "metadata": {},
   "outputs": [],
   "source": [
    "Lcondenser_x = Lx*0.2\n",
    "Lcondenser_y = Ly*0.9\n",
    "\n",
    "hc = 2000.0\n",
    "qe = power/Lheater_x/Lheater_y\n",
    "\n",
    "cb1 = Rectangle(Lheater_y/2,Lheater_y/2,1.5*Δx)\n",
    "Tfc = RigidTransform((Lx*0.3,-0.0),0.0)\n",
    "Tfc(cb1)\n",
    "\n",
    "Tc = Tref\n",
    "cparams = [PrescribedHeatModelRegion(hc,Tc,cb1)];"
   ]
  },
  {
   "cell_type": "markdown",
   "metadata": {},
   "source": [
    "### Set up OHP channel's shape\n",
    "in this example we construct a user-defined curve"
   ]
  },
  {
   "cell_type": "code",
   "execution_count": null,
   "metadata": {},
   "outputs": [],
   "source": [
    "a = 0.03\n",
    "θ = 0:2π/1000:2π\n",
    "# r = a*(1 .- sin.(θ))\n",
    "r = a*sin.(4θ)\n",
    "x = r .* cos.(θ)\n",
    "y = r .* sin.(θ);"
   ]
  },
  {
   "cell_type": "code",
   "execution_count": null,
   "metadata": {},
   "outputs": [],
   "source": [
    "# x, y = construct_ohp_curve(\"ASETS\",Δx) # get x and y coordinates for the channel\n",
    "ohp = BasicBody(x,y) # build a BasicBody based on x,y"
   ]
  },
  {
   "cell_type": "markdown",
   "metadata": {},
   "source": [
    "### Plot what you got so far\n",
    "This is a exmaple of the compuational domain (the box) and the OHP channel serpentine (in blue)"
   ]
  },
  {
   "cell_type": "code",
   "execution_count": null,
   "metadata": {},
   "outputs": [],
   "source": [
    "# plot ohp\n",
    "plt = plot(ohp,fillalpha=0,linecolor=:black,xlims=xlim,ylims=ylim,framestyle = :box)\n",
    "\n",
    "# plot heaters (red)\n",
    "for ep in eparams\n",
    "    plot!(ep)\n",
    "end\n",
    "\n",
    "# plot condensers (blue)\n",
    "for cp in cparams\n",
    "    plot!(cp)\n",
    "end\n",
    "\n",
    "# show plot\n",
    "plt"
   ]
  },
  {
   "cell_type": "markdown",
   "metadata": {},
   "source": [
    "# Construct the systems"
   ]
  },
  {
   "cell_type": "markdown",
   "metadata": {},
   "source": [
    "### Create HeatConduction system\n",
    "The solid module dealing with the 2D conduction, evaporator, condenser, and the OHP line heat source is constructed here."
   ]
  },
  {
   "cell_type": "code",
   "execution_count": null,
   "metadata": {},
   "outputs": [],
   "source": [
    "ohpgeom = ComputationalHeatTransfer.LineSourceParams(ohp) # build a line heat source based on BasicBody\n",
    "sys_plate = HeatConduction(params,Δx,xlim,ylim,Δt_max,qline=ohpgeom,qflux=eparams,qmodel=cparams)"
   ]
  },
  {
   "cell_type": "markdown",
   "metadata": {},
   "source": [
    "### Create OHP inner channel system\n",
    "sys_tube: fluid module system"
   ]
  },
  {
   "cell_type": "code",
   "execution_count": null,
   "metadata": {},
   "outputs": [],
   "source": [
    "sys_tube = initialize_ohpsys(fluid_type,sys_plate,p_fluid,Tref,power)"
   ]
  },
  {
   "cell_type": "markdown",
   "metadata": {},
   "source": [
    "# Initialize"
   ]
  },
  {
   "cell_type": "markdown",
   "metadata": {},
   "source": [
    "### set time step"
   ]
  },
  {
   "cell_type": "code",
   "execution_count": null,
   "metadata": {},
   "outputs": [],
   "source": [
    "tspan = (0.0, 2.0); # start time and end time\n",
    "dt_record = 0.01   # saving time interval\n",
    "\n",
    "tstep = 1e-3    # actrual time marching step"
   ]
  },
  {
   "cell_type": "markdown",
   "metadata": {},
   "source": [
    "### combine inner tube and plate together"
   ]
  },
  {
   "cell_type": "code",
   "execution_count": null,
   "metadata": {},
   "outputs": [],
   "source": [
    "u_plate = newstate(sys_plate) .+ Tref # initialize plate T field to uniform Tref\n",
    "integrator_plate = init(u_plate,tspan,sys_plate) # construct integrator_plate\n",
    "\n",
    "u_tube = newstate(sys_tube) # initialize OHP tube \n",
    "integrator_tube = init(u_tube,tspan,sys_tube); # construct integrator_tube"
   ]
  },
  {
   "cell_type": "markdown",
   "metadata": {},
   "source": [
    "### initialize arrays for saving"
   ]
  },
  {
   "cell_type": "code",
   "execution_count": null,
   "metadata": {},
   "outputs": [],
   "source": [
    "sr = SimulationResult(integrator_tube,integrator_plate);"
   ]
  },
  {
   "cell_type": "markdown",
   "metadata": {},
   "source": [
    "# Solve"
   ]
  },
  {
   "cell_type": "markdown",
   "metadata": {},
   "source": [
    "### Run the simulation and store data"
   ]
  },
  {
   "cell_type": "code",
   "execution_count": null,
   "metadata": {},
   "outputs": [],
   "source": [
    "@showprogress for t in tspan[1]:tstep:tspan[2]\n",
    "\n",
    "    timemarching!(integrator_tube,integrator_plate,tstep)\n",
    "\n",
    "    if (mod(integrator_plate.t,dt_record) < 1e-6) || (mod(-integrator_plate.t,dt_record) < 1e-6)\n",
    "        store!(sr,integrator_tube,integrator_plate)\n",
    "    end\n",
    "\n",
    "end"
   ]
  },
  {
   "cell_type": "markdown",
   "metadata": {},
   "source": [
    "# Store data"
   ]
  },
  {
   "cell_type": "code",
   "execution_count": null,
   "metadata": {},
   "outputs": [],
   "source": [
    "save_path = dirname(dirname(dirname(pwd())))*\"/OHPnume/OHP2_40W_large.jld2\"\n",
    "save(save_path,\"SimulationResult\",sr)"
   ]
  },
  {
   "cell_type": "markdown",
   "metadata": {},
   "source": [
    "---\n",
    "\n",
    "*This notebook was generated using [Literate.jl](https://github.com/fredrikekre/Literate.jl).*"
   ]
  }
 ],
 "metadata": {
  "@webio": {
   "lastCommId": null,
   "lastKernelId": null
  },
  "kernelspec": {
   "display_name": "Julia 1.8.1",
   "language": "julia",
   "name": "julia-1.8"
  },
  "language_info": {
   "file_extension": ".jl",
   "mimetype": "application/julia",
   "name": "julia",
   "version": "1.8.1"
  }
 },
 "nbformat": 4,
 "nbformat_minor": 3
}
